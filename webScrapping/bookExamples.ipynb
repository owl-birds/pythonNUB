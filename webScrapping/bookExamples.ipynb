{
 "metadata": {
  "language_info": {
   "codemirror_mode": {
    "name": "ipython",
    "version": 3
   },
   "file_extension": ".py",
   "mimetype": "text/x-python",
   "name": "python",
   "nbconvert_exporter": "python",
   "pygments_lexer": "ipython3",
   "version": "3.9.1-final"
  },
  "orig_nbformat": 2,
  "kernelspec": {
   "name": "python3",
   "display_name": "Python 3.9.1 64-bit",
   "metadata": {
    "interpreter": {
     "hash": "63fd5069d213b44bf678585dea6b12cceca9941eaf7f819626cde1f2670de90d"
    }
   }
  }
 },
 "nbformat": 4,
 "nbformat_minor": 2,
 "cells": [
  {
   "source": [
    "# WORKING WITH MULTIPLE PAGES AND ITEMS"
   ],
   "cell_type": "markdown",
   "metadata": {}
  },
  {
   "cell_type": "code",
   "execution_count": 1,
   "metadata": {},
   "outputs": [],
   "source": [
    "import requests\n",
    "import bs4"
   ]
  },
  {
   "cell_type": "code",
   "execution_count": 2,
   "metadata": {},
   "outputs": [
    {
     "output_type": "execute_result",
     "data": {
      "text/plain": [
       "'http://books.toscrape.com/catalogue/page-1.html'"
      ]
     },
     "metadata": {},
     "execution_count": 2
    }
   ],
   "source": [
    "\"http://books.toscrape.com/catalogue/page-{}.html\".format(1)"
   ]
  },
  {
   "cell_type": "code",
   "execution_count": 5,
   "metadata": {},
   "outputs": [],
   "source": [
    "baseUrl = \"http://books.toscrape.com/catalogue/page-{}.html\""
   ]
  },
  {
   "cell_type": "code",
   "execution_count": 6,
   "metadata": {},
   "outputs": [
    {
     "output_type": "execute_result",
     "data": {
      "text/plain": [
       "'http://books.toscrape.com/catalogue/page-3.html'"
      ]
     },
     "metadata": {},
     "execution_count": 6
    }
   ],
   "source": [
    "baseUrl.format(3)"
   ]
  },
  {
   "source": [
    "# Grabbing everything"
   ],
   "cell_type": "markdown",
   "metadata": {}
  },
  {
   "cell_type": "code",
   "execution_count": 24,
   "metadata": {},
   "outputs": [],
   "source": [
    "result = requests.get(baseUrl.format(1))\n",
    "soup = bs4.BeautifulSoup(result.text,\"lxml\")"
   ]
  },
  {
   "cell_type": "code",
   "execution_count": 25,
   "metadata": {},
   "outputs": [],
   "source": [
    "#soup"
   ]
  },
  {
   "cell_type": "code",
   "execution_count": 26,
   "metadata": {},
   "outputs": [
    {
     "output_type": "execute_result",
     "data": {
      "text/plain": [
       "20"
      ]
     },
     "metadata": {},
     "execution_count": 26
    }
   ],
   "source": [
    "len(soup.select(\".product_pod\"))"
   ]
  },
  {
   "cell_type": "code",
   "execution_count": 27,
   "metadata": {},
   "outputs": [],
   "source": [
    "#soup.select(\".product_pod\")"
   ]
  },
  {
   "cell_type": "code",
   "execution_count": 28,
   "metadata": {},
   "outputs": [],
   "source": [
    "products = soup.select(\".product_pod\")"
   ]
  },
  {
   "cell_type": "code",
   "execution_count": 29,
   "metadata": {},
   "outputs": [
    {
     "output_type": "execute_result",
     "data": {
      "text/plain": [
       "bs4.element.ResultSet"
      ]
     },
     "metadata": {},
     "execution_count": 29
    }
   ],
   "source": [
    "type(products)"
   ]
  },
  {
   "cell_type": "code",
   "execution_count": 35,
   "metadata": {},
   "outputs": [
    {
     "output_type": "execute_result",
     "data": {
      "text/plain": [
       "bs4.element.Tag"
      ]
     },
     "metadata": {},
     "execution_count": 35
    }
   ],
   "source": [
    "prod1 = products[0]\n",
    "type(prod1)"
   ]
  },
  {
   "cell_type": "code",
   "execution_count": 38,
   "metadata": {},
   "outputs": [
    {
     "output_type": "execute_result",
     "data": {
      "text/plain": [
       "<article class=\"product_pod\">\n",
       "<div class=\"image_container\">\n",
       "<a href=\"a-light-in-the-attic_1000/index.html\"><img alt=\"A Light in the Attic\" class=\"thumbnail\" src=\"../media/cache/2c/da/2cdad67c44b002e7ead0cc35693c0e8b.jpg\"/></a>\n",
       "</div>\n",
       "<p class=\"star-rating Three\">\n",
       "<i class=\"icon-star\"></i>\n",
       "<i class=\"icon-star\"></i>\n",
       "<i class=\"icon-star\"></i>\n",
       "<i class=\"icon-star\"></i>\n",
       "<i class=\"icon-star\"></i>\n",
       "</p>\n",
       "<h3><a href=\"a-light-in-the-attic_1000/index.html\" title=\"A Light in the Attic\">A Light in the ...</a></h3>\n",
       "<div class=\"product_price\">\n",
       "<p class=\"price_color\">Â£51.77</p>\n",
       "<p class=\"instock availability\">\n",
       "<i class=\"icon-ok\"></i>\n",
       "    \n",
       "        In stock\n",
       "    \n",
       "</p>\n",
       "<form>\n",
       "<button class=\"btn btn-primary btn-block\" data-loading-text=\"Adding...\" type=\"submit\">Add to basket</button>\n",
       "</form>\n",
       "</div>\n",
       "<article class=\"product_pod\">\n",
       "<div class=\"image_container\">\n",
       "<a href=\"tipping-the-velvet_999/index.html\"><img alt=\"Tipping the Velvet\" class=\"thumbnail\" src=\"../media/cache/26/0c/260c6ae16bce31c8f8c95daddd9f4a1c.jpg\"/></a>\n",
       "</div>\n",
       "<p class=\"star-rating One\">\n",
       "<i class=\"icon-star\"></i>\n",
       "<i class=\"icon-star\"></i>\n",
       "<i class=\"icon-star\"></i>\n",
       "<i class=\"icon-star\"></i>\n",
       "<i class=\"icon-star\"></i>\n",
       "</p>\n",
       "<h3><a href=\"tipping-the-velvet_999/index.html\" title=\"Tipping the Velvet\">Tipping the Velvet</a></h3>\n",
       "<div class=\"product_price\">\n",
       "<p class=\"price_color\">Â£53.74</p>\n",
       "<p class=\"instock availability\">\n",
       "<i class=\"icon-ok\"></i>\n",
       "    \n",
       "        In stock\n",
       "    \n",
       "</p>\n",
       "<form>\n",
       "<button class=\"btn btn-primary btn-block\" data-loading-text=\"Adding...\" type=\"submit\">Add to basket</button>\n",
       "</form>\n",
       "</div>\n",
       "</article></article>"
      ]
     },
     "metadata": {},
     "execution_count": 38
    }
   ],
   "source": [
    "prod1.append(products[1])\n",
    "prod1"
   ]
  },
  {
   "cell_type": "code",
   "execution_count": 13,
   "metadata": {},
   "outputs": [
    {
     "output_type": "execute_result",
     "data": {
      "text/plain": [
       "'<article class=\"product_pod\">\\n<div class=\"image_container\">\\n<a href=\"a-light-in-the-attic_1000/index.html\"><img alt=\"A Light in the Attic\" class=\"thumbnail\" src=\"../media/cache/2c/da/2cdad67c44b002e7ead0cc35693c0e8b.jpg\"/></a>\\n</div>\\n<p class=\"star-rating Three\">\\n<i class=\"icon-star\"></i>\\n<i class=\"icon-star\"></i>\\n<i class=\"icon-star\"></i>\\n<i class=\"icon-star\"></i>\\n<i class=\"icon-star\"></i>\\n</p>\\n<h3><a href=\"a-light-in-the-attic_1000/index.html\" title=\"A Light in the Attic\">A Light in the ...</a></h3>\\n<div class=\"product_price\">\\n<p class=\"price_color\">Â£51.77</p>\\n<p class=\"instock availability\">\\n<i class=\"icon-ok\"></i>\\n    \\n        In stock\\n    \\n</p>\\n<form>\\n<button class=\"btn btn-primary btn-block\" data-loading-text=\"Adding...\" type=\"submit\">Add to basket</button>\\n</form>\\n</div>\\n</article>'"
      ]
     },
     "metadata": {},
     "execution_count": 13
    }
   ],
   "source": [
    "str(prod1)"
   ]
  },
  {
   "cell_type": "code",
   "execution_count": 14,
   "metadata": {},
   "outputs": [
    {
     "output_type": "stream",
     "name": "stdout",
     "text": [
      "<re.Match object; span=(244, 261), match='star-rating Three'>\nstar-rating Three\n"
     ]
    }
   ],
   "source": [
    "import re\n",
    "rating1 = re.search(r\"star-rating \\w{3,}\", str(prod1))\n",
    "print(rating1)\n",
    "print(rating1.group())"
   ]
  },
  {
   "cell_type": "code",
   "execution_count": 16,
   "metadata": {},
   "outputs": [],
   "source": [
    "listOfStars = []\n",
    "for product in products:\n",
    "    tempRate = re.search(r\"star-rating \\w{3,}\",str(product))\n",
    "    listOfStars.append(tempRate.group())"
   ]
  },
  {
   "cell_type": "code",
   "execution_count": 17,
   "metadata": {},
   "outputs": [
    {
     "output_type": "execute_result",
     "data": {
      "text/plain": [
       "['star-rating Three',\n",
       " 'star-rating One',\n",
       " 'star-rating One',\n",
       " 'star-rating Four',\n",
       " 'star-rating Five',\n",
       " 'star-rating One',\n",
       " 'star-rating Four',\n",
       " 'star-rating Three',\n",
       " 'star-rating Four',\n",
       " 'star-rating One',\n",
       " 'star-rating Two',\n",
       " 'star-rating Four',\n",
       " 'star-rating Five',\n",
       " 'star-rating Five',\n",
       " 'star-rating Five',\n",
       " 'star-rating Three',\n",
       " 'star-rating One',\n",
       " 'star-rating One',\n",
       " 'star-rating Two',\n",
       " 'star-rating Two']"
      ]
     },
     "metadata": {},
     "execution_count": 17
    }
   ],
   "source": [
    "listOfStars"
   ]
  },
  {
   "cell_type": "code",
   "execution_count": 18,
   "metadata": {},
   "outputs": [
    {
     "output_type": "stream",
     "name": "stdout",
     "text": [
      "[1, 2, 3, 4, 5, 6]\n[4, 5, 6]\nhttp://books.toscrape.com/catalogue/page-{}.html\n"
     ]
    }
   ],
   "source": [
    "a = [1,2,3]\n",
    "b = [4,5,6]\n",
    "a.extend(b)\n",
    "c = []\n",
    "c.extend(b)\n",
    "print(a)\n",
    "print(c)\n",
    "print(baseUrl)"
   ]
  },
  {
   "cell_type": "code",
   "execution_count": 42,
   "metadata": {},
   "outputs": [],
   "source": [
    "twoStarBooks = []\n",
    "for idx in range(1,51):\n",
    "    result = requests.get(baseUrl.format(idx))\n",
    "    soup = bs4.BeautifulSoup(result.text,\"lxml\")\n",
    "    products = soup.select(\".product_pod\")\n",
    "    for product in products:\n",
    "        if len(product.select(\".star-rating.Two\")) != 0:\n",
    "            twoStarBooks.append(product.select(\"a\")[1][\"title\"])\n"
   ]
  },
  {
   "cell_type": "code",
   "execution_count": 43,
   "metadata": {},
   "outputs": [
    {
     "output_type": "stream",
     "name": "stdout",
     "text": [
      "['Starving Hearts (Triangular Trade Trilogy, #1)', 'Libertarianism for Beginners', \"It's Only the Himalayas\", 'How Music Works', 'Maude (1883-1993):She Grew Up with the country', \"You can't bury them all: Poems\", 'Reasons to Stay Alive', 'Without Borders (Wanderlove #1)', 'Soul Reader', 'Security', 'Saga, Volume 5 (Saga (Collected Editions) #5)', 'Reskilling America: Learning to Labor in the Twenty-First Century', 'Political Suicide: Missteps, Peccadilloes, Bad Calls, Backroom Hijinx, Sordid Pasts, Rotten Breaks, and Just Plain Dumb Mistakes in the Annals of American Politics', 'Obsidian (Lux #1)', 'My Paris Kitchen: Recipes and Stories', 'Masks and Shadows', 'Lumberjanes, Vol. 2: Friendship to the Max (Lumberjanes #5-8)', 'Lumberjanes Vol. 3: A Terrible Plan (Lumberjanes #9-12)', 'Judo: Seven Steps to Black Belt (an Introductory Guide for Beginners)', 'I Hate Fairyland, Vol. 1: Madly Ever After (I Hate Fairyland (Compilations) #1-5)', 'Giant Days, Vol. 2 (Giant Days #5-8)', 'Everydata: The Misinformation Hidden in the Little Data You Consume Every Day', \"Don't Be a Jerk: And Other Practical Advice from Dogen, Japan's Greatest Zen Master\", 'Bossypants', 'Bitch Planet, Vol. 1: Extraordinary Machine (Bitch Planet (Collected Editions))', 'Avatar: The Last Airbender: Smoke and Shadow, Part 3 (Smoke and Shadow #3)', 'Tuesday Nights in 1980', 'The Psychopath Test: A Journey Through the Madness Industry', 'The Power of Now: A Guide to Spiritual Enlightenment', \"The Omnivore's Dilemma: A Natural History of Four Meals\", 'The Love and Lemons Cookbook: An Apple-to-Zucchini Celebration of Impromptu Cooking', 'The Girl on the Train', 'The Emerald Mystery', 'The Argonauts', 'Suddenly in Love (Lake Haven #1)', 'Soft Apocalypse', \"So You've Been Publicly Shamed\", 'Shoe Dog: A Memoir by the Creator of NIKE', 'Louisa: The Extraordinary Life of Mrs. Adams', 'Large Print Heart of the Pride', 'Grumbles', 'Chasing Heaven: What Dying Taught Me About Living', 'Becoming Wise: An Inquiry into the Mystery and Art of Living', 'Beauty Restored (Riley Family Legacy Novellas #3)', 'Batman: The Long Halloween (Batman)', \"Ayumi's Violin\", 'Wild Swans', \"What's It Like in Space?: Stories from Astronauts Who've Been There\", 'Until Friday Night (The Field Party #1)', 'Unbroken: A World War II Story of Survival, Resilience, and Redemption', 'Twenty Yawns', 'Through the Woods', 'This Is Where It Ends', 'The Year of Magical Thinking', 'The Last Mile (Amos Decker #2)', 'The Immortal Life of Henrietta Lacks', 'The Hidden Oracle (The Trials of Apollo #1)', 'The Guilty (Will Robie #4)', 'Red Hood/Arsenal, Vol. 1: Open for Business (Red Hood/Arsenal #1)', 'Once Was a Time', 'No Dream Is Too High: Life Lessons From a Man Who Walked on the Moon', 'Naruto (3-in-1 Edition), Vol. 14: Includes Vols. 40, 41 & 42 (Naruto: Omnibus #14)', 'More Than Music (Chasing the Dream #1)', 'Lowriders to the Center of the Earth (Lowriders in Space #2)', 'Eat Fat, Get Thin', 'Doctor Sleep (The Shining #2)', 'Crazy Love: Overwhelmed by a Relentless God', 'Carrie', 'Batman: Europa', 'Angels Walking (Angels Walking #1)', 'Adulthood Is a Myth: A \"Sarah\\'s Scribbles\" Collection', 'A Study in Scarlet (Sherlock Holmes #1)', 'A Series of Catastrophes and Miracles: A True Story of Love, Science, and Cancer', \"A People's History of the United States\", 'My Kitchen Year: 136 Recipes That Saved My Life', 'The Lonely City: Adventures in the Art of Being Alone', 'The Dinner Party', 'Stars Above (The Lunar Chronicles #4.5)', 'Love, Lies and Spies', 'Troublemaker: Surviving Hollywood and Scientology', 'The Widow', 'Setting the World on Fire: The Brief, Astonishing Life of St. Catherine of Siena', 'Mothering Sunday', 'Lilac Girls', '10% Happier: How I Tamed the Voice in My Head, Reduced Stress Without Losing My Edge, and Found Self-Help That Actually Works', 'Underlying Notes', 'The Flowers Lied', 'Modern Day Fables', \"Chernobyl 01:23:40: The Incredible True Story of the World's Worst Nuclear Disaster\", '23 Degrees South: A Tropical Tale of Changing Whether...', 'When Breath Becomes Air', 'Vagabonding: An Uncommon Guide to the Art of Long-Term World Travel', 'The Martian (The Martian #1)', \"Miller's Valley\", \"Love That Boy: What Two Presidents, Eight Road Trips, and My Son Taught Me About a Parent's Expectations\", 'Left Behind (Left Behind #1)', 'Howl and Other Poems', \"Heaven is for Real: A Little Boy's Astounding Story of His Trip to Heaven and Back\", \"Brazen: The Courage to Find the You That's Been Hiding\", '32 Yolks', 'Wildlife of New York: A Five-Borough Coloring Book', 'Unreasonable Hope: Finding Faith in the God Who Brings Purpose to Your Pain', 'The Art Book', 'Steal Like an Artist: 10 Things Nobody Told You About Being Creative', 'Raymie Nightingale', 'Like Never Before (Walker Family #2)', 'How to Be a Domestic Goddess: Baking and the Art of Comfort Cooking', 'Finding God in the Ruins: How God Redeems Pain', 'Chronicles, Vol. 1', 'A Summer In Europe', 'The Rise and Fall of the Third Reich: A History of Nazi Germany', 'The Makings of a Fatherless Child', 'The Fellowship of the Ring (The Lord of the Rings #1)', \"Tell the Wolves I'm Home\", 'In the Woods (Dublin Murder Squad #1)', 'Give It Back', 'Why Save the Bankers?: And Other Essays on Our Economic and Political Crisis', 'The Raven King (The Raven Cycle #4)', 'The Expatriates', 'The 5th Wave (The 5th Wave #1)', 'Peak: Secrets from the New Science of Expertise', 'Logan Kade (Fallen Crest High #5.5)', \"I Know Why the Caged Bird Sings (Maya Angelou's Autobiography #1)\", 'Drama', \"America's War for the Greater Middle East: A Military History\", 'A Game of Thrones (A Song of Ice and Fire #1)', \"The Pilgrim's Progress\", 'The Hound of the Baskervilles (Sherlock Holmes #5)', \"The Geography of Bliss: One Grump's Search for the Happiest Places in the World\", 'The Demonists (Demonist #1)', 'The Demon Prince of Momochi House, Vol. 4 (The Demon Prince of Momochi House #4)', 'Misery', 'Far From True (Promise Falls Trilogy #2)', 'Confessions of a Shopaholic (Shopaholic #1)', 'Vegan Vegetarian Omnivore: Dinner for Everyone at the Table', 'Two Boys Kissing', 'Twilight (Twilight #1)', 'Twenties Girl', 'The Tipping Point: How Little Things Can Make a Big Difference', 'The Stand', 'The Picture of Dorian Gray', 'The Name of God is Mercy', \"The Lover's Dictionary\", 'The Last Painting of Sara de Vos', 'The Guns of August', 'The Girl Who Played with Fire (Millennium Trilogy #2)', 'The Da Vinci Code (Robert Langdon #2)', 'The Cat in the Hat (Beginner Books B-1)', 'The Book Thief', 'The Autobiography of Malcolm X', \"Surely You're Joking, Mr. Feynman!: Adventures of a Curious Character\", 'Soldier (Talon #3)', 'Shopaholic & Baby (Shopaholic #5)', 'Seven Days in the Art World', 'Rework', 'Packing for Mars: The Curious Science of Life in the Void', 'Orange Is the New Black', 'One for the Money (Stephanie Plum #1)', 'Midnight Riot (Peter Grant/ Rivers of London - books #1)', 'Me Talk Pretty One Day', 'Manuscript Found in Accra', 'Lust & Wonder', \"Life, the Universe and Everything (Hitchhiker's Guide to the Galaxy #3)\", 'Life After Life', 'I Am Malala: The Girl Who Stood Up for Education and Was Shot by the Taliban', 'House of Lost Worlds: Dinosaurs, Dynasties, and the Story of Life on Earth', 'Horrible Bear!', 'Holidays on Ice', 'Girl in the Blue Coat', 'Fruits Basket, Vol. 3 (Fruits Basket #3)', 'Cosmos', 'Civilization and Its Discontents', \"Catastrophic Happiness: Finding Joy in Childhood's Messy Years\", 'Career of Evil (Cormoran Strike #3)', 'Born to Run: A Hidden Tribe, Superathletes, and the Greatest Race the World Has Never Seen', \"Best of My Love (Fool's Gold #20)\", 'Beowulf', 'Awkward', 'And Then There Were None', 'A Storm of Swords (A Song of Ice and Fire #3)', 'The Suffragettes (Little Black Classics, #96)', 'Vampire Girl (Vampire Girl #1)', 'Three Wishes (River of Time: California #1)', 'The Wicked + The Divine, Vol. 1: The Faust Act (The Wicked + The Divine)', 'The Little Prince', 'The Last Girl (The Dominion Trilogy #1)', 'Taking Shots (Assassins #1)', 'Settling the Score (The Summer Games #1)', 'Rhythm, Chord & Malykhin', 'One Second (Seven #7)', \"Old Records Never Die: One Man's Quest for His Vinyl and His Past\", 'Of Mice and Men', 'My Perfect Mistake (Over the Top #1)', 'Meditations', 'Frankenstein', 'Emma']\n"
     ]
    }
   ],
   "source": [
    "print(twoStarBooks)"
   ]
  },
  {
   "cell_type": "code",
   "execution_count": 45,
   "metadata": {},
   "outputs": [
    {
     "output_type": "stream",
     "name": "stdout",
     "text": [
      "Starving Hearts (Triangular Trade Trilogy, #1)\nLibertarianism for Beginners\nIt's Only the Himalayas\nHow Music Works\nMaude (1883-1993):She Grew Up with the country\nYou can't bury them all: Poems\nReasons to Stay Alive\nWithout Borders (Wanderlove #1)\nSoul Reader\nSecurity\nSaga, Volume 5 (Saga (Collected Editions) #5)\nReskilling America: Learning to Labor in the Twenty-First Century\nPolitical Suicide: Missteps, Peccadilloes, Bad Calls, Backroom Hijinx, Sordid Pasts, Rotten Breaks, and Just Plain Dumb Mistakes in the Annals of American Politics\nObsidian (Lux #1)\nMy Paris Kitchen: Recipes and Stories\nMasks and Shadows\nLumberjanes, Vol. 2: Friendship to the Max (Lumberjanes #5-8)\nLumberjanes Vol. 3: A Terrible Plan (Lumberjanes #9-12)\nJudo: Seven Steps to Black Belt (an Introductory Guide for Beginners)\nI Hate Fairyland, Vol. 1: Madly Ever After (I Hate Fairyland (Compilations) #1-5)\nGiant Days, Vol. 2 (Giant Days #5-8)\nEverydata: The Misinformation Hidden in the Little Data You Consume Every Day\nDon't Be a Jerk: And Other Practical Advice from Dogen, Japan's Greatest Zen Master\nBossypants\nBitch Planet, Vol. 1: Extraordinary Machine (Bitch Planet (Collected Editions))\nAvatar: The Last Airbender: Smoke and Shadow, Part 3 (Smoke and Shadow #3)\nTuesday Nights in 1980\nThe Psychopath Test: A Journey Through the Madness Industry\nThe Power of Now: A Guide to Spiritual Enlightenment\nThe Omnivore's Dilemma: A Natural History of Four Meals\nThe Love and Lemons Cookbook: An Apple-to-Zucchini Celebration of Impromptu Cooking\nThe Girl on the Train\nThe Emerald Mystery\nThe Argonauts\nSuddenly in Love (Lake Haven #1)\nSoft Apocalypse\nSo You've Been Publicly Shamed\nShoe Dog: A Memoir by the Creator of NIKE\nLouisa: The Extraordinary Life of Mrs. Adams\nLarge Print Heart of the Pride\nGrumbles\nChasing Heaven: What Dying Taught Me About Living\nBecoming Wise: An Inquiry into the Mystery and Art of Living\nBeauty Restored (Riley Family Legacy Novellas #3)\nBatman: The Long Halloween (Batman)\nAyumi's Violin\nWild Swans\nWhat's It Like in Space?: Stories from Astronauts Who've Been There\nUntil Friday Night (The Field Party #1)\nUnbroken: A World War II Story of Survival, Resilience, and Redemption\nTwenty Yawns\nThrough the Woods\nThis Is Where It Ends\nThe Year of Magical Thinking\nThe Last Mile (Amos Decker #2)\nThe Immortal Life of Henrietta Lacks\nThe Hidden Oracle (The Trials of Apollo #1)\nThe Guilty (Will Robie #4)\nRed Hood/Arsenal, Vol. 1: Open for Business (Red Hood/Arsenal #1)\nOnce Was a Time\nNo Dream Is Too High: Life Lessons From a Man Who Walked on the Moon\nNaruto (3-in-1 Edition), Vol. 14: Includes Vols. 40, 41 & 42 (Naruto: Omnibus #14)\nMore Than Music (Chasing the Dream #1)\nLowriders to the Center of the Earth (Lowriders in Space #2)\nEat Fat, Get Thin\nDoctor Sleep (The Shining #2)\nCrazy Love: Overwhelmed by a Relentless God\nCarrie\nBatman: Europa\nAngels Walking (Angels Walking #1)\nAdulthood Is a Myth: A \"Sarah's Scribbles\" Collection\nA Study in Scarlet (Sherlock Holmes #1)\nA Series of Catastrophes and Miracles: A True Story of Love, Science, and Cancer\nA People's History of the United States\nMy Kitchen Year: 136 Recipes That Saved My Life\nThe Lonely City: Adventures in the Art of Being Alone\nThe Dinner Party\nStars Above (The Lunar Chronicles #4.5)\nLove, Lies and Spies\nTroublemaker: Surviving Hollywood and Scientology\nThe Widow\nSetting the World on Fire: The Brief, Astonishing Life of St. Catherine of Siena\nMothering Sunday\nLilac Girls\n10% Happier: How I Tamed the Voice in My Head, Reduced Stress Without Losing My Edge, and Found Self-Help That Actually Works\nUnderlying Notes\nThe Flowers Lied\nModern Day Fables\nChernobyl 01:23:40: The Incredible True Story of the World's Worst Nuclear Disaster\n23 Degrees South: A Tropical Tale of Changing Whether...\nWhen Breath Becomes Air\nVagabonding: An Uncommon Guide to the Art of Long-Term World Travel\nThe Martian (The Martian #1)\nMiller's Valley\nLove That Boy: What Two Presidents, Eight Road Trips, and My Son Taught Me About a Parent's Expectations\nLeft Behind (Left Behind #1)\nHowl and Other Poems\nHeaven is for Real: A Little Boy's Astounding Story of His Trip to Heaven and Back\nBrazen: The Courage to Find the You That's Been Hiding\n32 Yolks\nWildlife of New York: A Five-Borough Coloring Book\nUnreasonable Hope: Finding Faith in the God Who Brings Purpose to Your Pain\nThe Art Book\nSteal Like an Artist: 10 Things Nobody Told You About Being Creative\nRaymie Nightingale\nLike Never Before (Walker Family #2)\nHow to Be a Domestic Goddess: Baking and the Art of Comfort Cooking\nFinding God in the Ruins: How God Redeems Pain\nChronicles, Vol. 1\nA Summer In Europe\nThe Rise and Fall of the Third Reich: A History of Nazi Germany\nThe Makings of a Fatherless Child\nThe Fellowship of the Ring (The Lord of the Rings #1)\nTell the Wolves I'm Home\nIn the Woods (Dublin Murder Squad #1)\nGive It Back\nWhy Save the Bankers?: And Other Essays on Our Economic and Political Crisis\nThe Raven King (The Raven Cycle #4)\nThe Expatriates\nThe 5th Wave (The 5th Wave #1)\nPeak: Secrets from the New Science of Expertise\nLogan Kade (Fallen Crest High #5.5)\nI Know Why the Caged Bird Sings (Maya Angelou's Autobiography #1)\nDrama\nAmerica's War for the Greater Middle East: A Military History\nA Game of Thrones (A Song of Ice and Fire #1)\nThe Pilgrim's Progress\nThe Hound of the Baskervilles (Sherlock Holmes #5)\nThe Geography of Bliss: One Grump's Search for the Happiest Places in the World\nThe Demonists (Demonist #1)\nThe Demon Prince of Momochi House, Vol. 4 (The Demon Prince of Momochi House #4)\nMisery\nFar From True (Promise Falls Trilogy #2)\nConfessions of a Shopaholic (Shopaholic #1)\nVegan Vegetarian Omnivore: Dinner for Everyone at the Table\nTwo Boys Kissing\nTwilight (Twilight #1)\nTwenties Girl\nThe Tipping Point: How Little Things Can Make a Big Difference\nThe Stand\nThe Picture of Dorian Gray\nThe Name of God is Mercy\nThe Lover's Dictionary\nThe Last Painting of Sara de Vos\nThe Guns of August\nThe Girl Who Played with Fire (Millennium Trilogy #2)\nThe Da Vinci Code (Robert Langdon #2)\nThe Cat in the Hat (Beginner Books B-1)\nThe Book Thief\nThe Autobiography of Malcolm X\nSurely You're Joking, Mr. Feynman!: Adventures of a Curious Character\nSoldier (Talon #3)\nShopaholic & Baby (Shopaholic #5)\nSeven Days in the Art World\nRework\nPacking for Mars: The Curious Science of Life in the Void\nOrange Is the New Black\nOne for the Money (Stephanie Plum #1)\nMidnight Riot (Peter Grant/ Rivers of London - books #1)\nMe Talk Pretty One Day\nManuscript Found in Accra\nLust & Wonder\nLife, the Universe and Everything (Hitchhiker's Guide to the Galaxy #3)\nLife After Life\nI Am Malala: The Girl Who Stood Up for Education and Was Shot by the Taliban\nHouse of Lost Worlds: Dinosaurs, Dynasties, and the Story of Life on Earth\nHorrible Bear!\nHolidays on Ice\nGirl in the Blue Coat\nFruits Basket, Vol. 3 (Fruits Basket #3)\nCosmos\nCivilization and Its Discontents\nCatastrophic Happiness: Finding Joy in Childhood's Messy Years\nCareer of Evil (Cormoran Strike #3)\nBorn to Run: A Hidden Tribe, Superathletes, and the Greatest Race the World Has Never Seen\nBest of My Love (Fool's Gold #20)\nBeowulf\nAwkward\nAnd Then There Were None\nA Storm of Swords (A Song of Ice and Fire #3)\nThe Suffragettes (Little Black Classics, #96)\nVampire Girl (Vampire Girl #1)\nThree Wishes (River of Time: California #1)\nThe Wicked + The Divine, Vol. 1: The Faust Act (The Wicked + The Divine)\nThe Little Prince\nThe Last Girl (The Dominion Trilogy #1)\nTaking Shots (Assassins #1)\nSettling the Score (The Summer Games #1)\nRhythm, Chord & Malykhin\nOne Second (Seven #7)\nOld Records Never Die: One Man's Quest for His Vinyl and His Past\nOf Mice and Men\nMy Perfect Mistake (Over the Top #1)\nMeditations\nFrankenstein\nEmma\n"
     ]
    }
   ],
   "source": [
    "for book in twoStarBooks:\n",
    "    print(book)"
   ]
  },
  {
   "cell_type": "code",
   "execution_count": 46,
   "metadata": {},
   "outputs": [
    {
     "output_type": "execute_result",
     "data": {
      "text/plain": [
       "20"
      ]
     },
     "metadata": {},
     "execution_count": 46
    }
   ],
   "source": [
    "len(products)"
   ]
  },
  {
   "cell_type": "code",
   "execution_count": 47,
   "metadata": {},
   "outputs": [
    {
     "output_type": "execute_result",
     "data": {
      "text/plain": [
       "[<p class=\"star-rating Two\">\n",
       " <i class=\"icon-star\"></i>\n",
       " <i class=\"icon-star\"></i>\n",
       " <i class=\"icon-star\"></i>\n",
       " <i class=\"icon-star\"></i>\n",
       " <i class=\"icon-star\"></i>\n",
       " </p>]"
      ]
     },
     "metadata": {},
     "execution_count": 47
    }
   ],
   "source": [
    "products[0].select(\".star-rating.Two\")"
   ]
  },
  {
   "cell_type": "code",
   "execution_count": 54,
   "metadata": {},
   "outputs": [
    {
     "output_type": "execute_result",
     "data": {
      "text/plain": [
       "[]"
      ]
     },
     "metadata": {},
     "execution_count": 54
    }
   ],
   "source": [
    "products[0].select(\".star-rating.Three\")"
   ]
  },
  {
   "cell_type": "code",
   "execution_count": 50,
   "metadata": {},
   "outputs": [
    {
     "output_type": "execute_result",
     "data": {
      "text/plain": [
       "'Frankenstein'"
      ]
     },
     "metadata": {},
     "execution_count": 50
    }
   ],
   "source": [
    "products[0].select(\"a\")[1][\"title\"]"
   ]
  },
  {
   "cell_type": "code",
   "execution_count": 56,
   "metadata": {},
   "outputs": [
    {
     "output_type": "execute_result",
     "data": {
      "text/plain": [
       "[<p class=\"star-rating Two\">\n",
       " <i class=\"icon-star\"></i>\n",
       " <i class=\"icon-star\"></i>\n",
       " <i class=\"icon-star\"></i>\n",
       " <i class=\"icon-star\"></i>\n",
       " <i class=\"icon-star\"></i>\n",
       " </p>]"
      ]
     },
     "metadata": {},
     "execution_count": 56
    }
   ],
   "source": [
    "products[0].select(\".star-rating.Two\")"
   ]
  },
  {
   "cell_type": "code",
   "execution_count": 58,
   "metadata": {},
   "outputs": [
    {
     "output_type": "execute_result",
     "data": {
      "text/plain": [
       "[<a href=\"frankenstein_20/index.html\"><img alt=\"Frankenstein\" class=\"thumbnail\" src=\"../media/cache/00/25/0025515e987a1ebd648773f9ac70bfe6.jpg\"/></a>,\n",
       " <a href=\"frankenstein_20/index.html\" title=\"Frankenstein\">Frankenstein</a>]"
      ]
     },
     "metadata": {},
     "execution_count": 58
    }
   ],
   "source": [
    "products[0].select(\"a\")"
   ]
  },
  {
   "cell_type": "code",
   "execution_count": null,
   "metadata": {},
   "outputs": [],
   "source": []
  }
 ]
}