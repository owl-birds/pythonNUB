{
 "metadata": {
  "language_info": {
   "codemirror_mode": {
    "name": "ipython",
    "version": 3
   },
   "file_extension": ".py",
   "mimetype": "text/x-python",
   "name": "python",
   "nbconvert_exporter": "python",
   "pygments_lexer": "ipython3",
   "version": "3.9.1-final"
  },
  "orig_nbformat": 2,
  "kernelspec": {
   "name": "python3",
   "display_name": "Python 3.9.1 64-bit",
   "metadata": {
    "interpreter": {
     "hash": "63fd5069d213b44bf678585dea6b12cceca9941eaf7f819626cde1f2670de90d"
    }
   }
  }
 },
 "nbformat": 4,
 "nbformat_minor": 2,
 "cells": [
  {
   "source": [
    "# EXCERCISE"
   ],
   "cell_type": "markdown",
   "metadata": {}
  },
  {
   "cell_type": "code",
   "execution_count": 1,
   "metadata": {},
   "outputs": [],
   "source": [
    "import requests\n",
    "import bs4"
   ]
  },
  {
   "cell_type": "code",
   "execution_count": 4,
   "metadata": {},
   "outputs": [],
   "source": [
    "result = requests.get(\"http://quotes.toscrape.com/\")\n",
    "soup = bs4.BeautifulSoup(result.text,\"lxml\")"
   ]
  },
  {
   "cell_type": "code",
   "execution_count": 5,
   "metadata": {},
   "outputs": [
    {
     "output_type": "stream",
     "name": "stdout",
     "text": [
      "<!DOCTYPE html>\n<html lang=\"en\">\n<head>\n<meta charset=\"utf-8\"/>\n<title>Quotes to Scrape</title>\n<link href=\"/static/bootstrap.min.css\" rel=\"stylesheet\"/>\n<link href=\"/static/main.css\" rel=\"stylesheet\"/>\n</head>\n<body>\n<div class=\"container\">\n<div class=\"row header-box\">\n<div class=\"col-md-8\">\n<h1>\n<a href=\"/\" style=\"text-decoration: none\">Quotes to Scrape</a>\n</h1>\n</div>\n<div class=\"col-md-4\">\n<p>\n<a href=\"/login\">Login</a>\n</p>\n</div>\n</div>\n<div class=\"row\">\n<div class=\"col-md-8\">\n<div class=\"quote\" itemscope=\"\" itemtype=\"http://schema.org/CreativeWork\">\n<span class=\"text\" itemprop=\"text\">“The world as we have created it is a process of our thinking. It cannot be changed without changing our thinking.”</span>\n<span>by <small class=\"author\" itemprop=\"author\">Albert Einstein</small>\n<a href=\"/author/Albert-Einstein\">(about)</a>\n</span>\n<div class=\"tags\">\n            Tags:\n            <meta class=\"keywords\" content=\"change,deep-thoughts,thinking,world\" itemprop=\"keywords\"/>\n<a class=\"tag\" href=\"/tag/change/page/1/\">change</a>\n<a class=\"tag\" href=\"/tag/deep-thoughts/page/1/\">deep-thoughts</a>\n<a class=\"tag\" href=\"/tag/thinking/page/1/\">thinking</a>\n<a class=\"tag\" href=\"/tag/world/page/1/\">world</a>\n</div>\n</div>\n<div class=\"quote\" itemscope=\"\" itemtype=\"http://schema.org/CreativeWork\">\n<span class=\"text\" itemprop=\"text\">“It is our choices, Harry, that show what we truly are, far more than our abilities.”</span>\n<span>by <small class=\"author\" itemprop=\"author\">J.K. Rowling</small>\n<a href=\"/author/J-K-Rowling\">(about)</a>\n</span>\n<div class=\"tags\">\n            Tags:\n            <meta class=\"keywords\" content=\"abilities,choices\" itemprop=\"keywords\"/>\n<a class=\"tag\" href=\"/tag/abilities/page/1/\">abilities</a>\n<a class=\"tag\" href=\"/tag/choices/page/1/\">choices</a>\n</div>\n</div>\n<div class=\"quote\" itemscope=\"\" itemtype=\"http://schema.org/CreativeWork\">\n<span class=\"text\" itemprop=\"text\">“There are only two ways to live your life. One is as though nothing is a miracle. The other is as though everything is a miracle.”</span>\n<span>by <small class=\"author\" itemprop=\"author\">Albert Einstein</small>\n<a href=\"/author/Albert-Einstein\">(about)</a>\n</span>\n<div class=\"tags\">\n            Tags:\n            <meta class=\"keywords\" content=\"inspirational,life,live,miracle,miracles\" itemprop=\"keywords\"/>\n<a class=\"tag\" href=\"/tag/inspirational/page/1/\">inspirational</a>\n<a class=\"tag\" href=\"/tag/life/page/1/\">life</a>\n<a class=\"tag\" href=\"/tag/live/page/1/\">live</a>\n<a class=\"tag\" href=\"/tag/miracle/page/1/\">miracle</a>\n<a class=\"tag\" href=\"/tag/miracles/page/1/\">miracles</a>\n</div>\n</div>\n<div class=\"quote\" itemscope=\"\" itemtype=\"http://schema.org/CreativeWork\">\n<span class=\"text\" itemprop=\"text\">“The person, be it gentleman or lady, who has not pleasure in a good novel, must be intolerably stupid.”</span>\n<span>by <small class=\"author\" itemprop=\"author\">Jane Austen</small>\n<a href=\"/author/Jane-Austen\">(about)</a>\n</span>\n<div class=\"tags\">\n            Tags:\n            <meta class=\"keywords\" content=\"aliteracy,books,classic,humor\" itemprop=\"keywords\"/>\n<a class=\"tag\" href=\"/tag/aliteracy/page/1/\">aliteracy</a>\n<a class=\"tag\" href=\"/tag/books/page/1/\">books</a>\n<a class=\"tag\" href=\"/tag/classic/page/1/\">classic</a>\n<a class=\"tag\" href=\"/tag/humor/page/1/\">humor</a>\n</div>\n</div>\n<div class=\"quote\" itemscope=\"\" itemtype=\"http://schema.org/CreativeWork\">\n<span class=\"text\" itemprop=\"text\">“Imperfection is beauty, madness is genius and it's better to be absolutely ridiculous than absolutely boring.”</span>\n<span>by <small class=\"author\" itemprop=\"author\">Marilyn Monroe</small>\n<a href=\"/author/Marilyn-Monroe\">(about)</a>\n</span>\n<div class=\"tags\">\n            Tags:\n            <meta class=\"keywords\" content=\"be-yourself,inspirational\" itemprop=\"keywords\"/>\n<a class=\"tag\" href=\"/tag/be-yourself/page/1/\">be-yourself</a>\n<a class=\"tag\" href=\"/tag/inspirational/page/1/\">inspirational</a>\n</div>\n</div>\n<div class=\"quote\" itemscope=\"\" itemtype=\"http://schema.org/CreativeWork\">\n<span class=\"text\" itemprop=\"text\">“Try not to become a man of success. Rather become a man of value.”</span>\n<span>by <small class=\"author\" itemprop=\"author\">Albert Einstein</small>\n<a href=\"/author/Albert-Einstein\">(about)</a>\n</span>\n<div class=\"tags\">\n            Tags:\n            <meta class=\"keywords\" content=\"adulthood,success,value\" itemprop=\"keywords\"/>\n<a class=\"tag\" href=\"/tag/adulthood/page/1/\">adulthood</a>\n<a class=\"tag\" href=\"/tag/success/page/1/\">success</a>\n<a class=\"tag\" href=\"/tag/value/page/1/\">value</a>\n</div>\n</div>\n<div class=\"quote\" itemscope=\"\" itemtype=\"http://schema.org/CreativeWork\">\n<span class=\"text\" itemprop=\"text\">“It is better to be hated for what you are than to be loved for what you are not.”</span>\n<span>by <small class=\"author\" itemprop=\"author\">André Gide</small>\n<a href=\"/author/Andre-Gide\">(about)</a>\n</span>\n<div class=\"tags\">\n            Tags:\n            <meta class=\"keywords\" content=\"life,love\" itemprop=\"keywords\"/>\n<a class=\"tag\" href=\"/tag/life/page/1/\">life</a>\n<a class=\"tag\" href=\"/tag/love/page/1/\">love</a>\n</div>\n</div>\n<div class=\"quote\" itemscope=\"\" itemtype=\"http://schema.org/CreativeWork\">\n<span class=\"text\" itemprop=\"text\">“I have not failed. I've just found 10,000 ways that won't work.”</span>\n<span>by <small class=\"author\" itemprop=\"author\">Thomas A. Edison</small>\n<a href=\"/author/Thomas-A-Edison\">(about)</a>\n</span>\n<div class=\"tags\">\n            Tags:\n            <meta class=\"keywords\" content=\"edison,failure,inspirational,paraphrased\" itemprop=\"keywords\"/>\n<a class=\"tag\" href=\"/tag/edison/page/1/\">edison</a>\n<a class=\"tag\" href=\"/tag/failure/page/1/\">failure</a>\n<a class=\"tag\" href=\"/tag/inspirational/page/1/\">inspirational</a>\n<a class=\"tag\" href=\"/tag/paraphrased/page/1/\">paraphrased</a>\n</div>\n</div>\n<div class=\"quote\" itemscope=\"\" itemtype=\"http://schema.org/CreativeWork\">\n<span class=\"text\" itemprop=\"text\">“A woman is like a tea bag; you never know how strong it is until it's in hot water.”</span>\n<span>by <small class=\"author\" itemprop=\"author\">Eleanor Roosevelt</small>\n<a href=\"/author/Eleanor-Roosevelt\">(about)</a>\n</span>\n<div class=\"tags\">\n            Tags:\n            <meta class=\"keywords\" content=\"misattributed-eleanor-roosevelt\" itemprop=\"keywords\"/>\n<a class=\"tag\" href=\"/tag/misattributed-eleanor-roosevelt/page/1/\">misattributed-eleanor-roosevelt</a>\n</div>\n</div>\n<div class=\"quote\" itemscope=\"\" itemtype=\"http://schema.org/CreativeWork\">\n<span class=\"text\" itemprop=\"text\">“A day without sunshine is like, you know, night.”</span>\n<span>by <small class=\"author\" itemprop=\"author\">Steve Martin</small>\n<a href=\"/author/Steve-Martin\">(about)</a>\n</span>\n<div class=\"tags\">\n            Tags:\n            <meta class=\"keywords\" content=\"humor,obvious,simile\" itemprop=\"keywords\"/>\n<a class=\"tag\" href=\"/tag/humor/page/1/\">humor</a>\n<a class=\"tag\" href=\"/tag/obvious/page/1/\">obvious</a>\n<a class=\"tag\" href=\"/tag/simile/page/1/\">simile</a>\n</div>\n</div>\n<nav>\n<ul class=\"pager\">\n<li class=\"next\">\n<a href=\"/page/2/\">Next <span aria-hidden=\"true\">→</span></a>\n</li>\n</ul>\n</nav>\n</div>\n<div class=\"col-md-4 tags-box\">\n<h2>Top Ten tags</h2>\n<span class=\"tag-item\">\n<a class=\"tag\" href=\"/tag/love/\" style=\"font-size: 28px\">love</a>\n</span>\n<span class=\"tag-item\">\n<a class=\"tag\" href=\"/tag/inspirational/\" style=\"font-size: 26px\">inspirational</a>\n</span>\n<span class=\"tag-item\">\n<a class=\"tag\" href=\"/tag/life/\" style=\"font-size: 26px\">life</a>\n</span>\n<span class=\"tag-item\">\n<a class=\"tag\" href=\"/tag/humor/\" style=\"font-size: 24px\">humor</a>\n</span>\n<span class=\"tag-item\">\n<a class=\"tag\" href=\"/tag/books/\" style=\"font-size: 22px\">books</a>\n</span>\n<span class=\"tag-item\">\n<a class=\"tag\" href=\"/tag/reading/\" style=\"font-size: 14px\">reading</a>\n</span>\n<span class=\"tag-item\">\n<a class=\"tag\" href=\"/tag/friendship/\" style=\"font-size: 10px\">friendship</a>\n</span>\n<span class=\"tag-item\">\n<a class=\"tag\" href=\"/tag/friends/\" style=\"font-size: 8px\">friends</a>\n</span>\n<span class=\"tag-item\">\n<a class=\"tag\" href=\"/tag/truth/\" style=\"font-size: 8px\">truth</a>\n</span>\n<span class=\"tag-item\">\n<a class=\"tag\" href=\"/tag/simile/\" style=\"font-size: 6px\">simile</a>\n</span>\n</div>\n</div>\n</div>\n<footer class=\"footer\">\n<div class=\"container\">\n<p class=\"text-muted\">\n                Quotes by: <a href=\"https://www.goodreads.com/quotes\">GoodReads.com</a>\n</p>\n<p class=\"copyright\">\n                Made with <span class=\"sh-red\">❤</span> by <a href=\"https://scrapinghub.com\">Scrapinghub</a>\n</p>\n</div>\n</footer>\n</body>\n</html>\n"
     ]
    }
   ],
   "source": [
    "print(soup)"
   ]
  },
  {
   "cell_type": "code",
   "execution_count": 14,
   "metadata": {},
   "outputs": [],
   "source": [
    "def getAuthors(soup):\n",
    "    auths = []\n",
    "    for element in soup.select(\".author\"):\n",
    "        auths.append(element.getText())\n",
    "    return auths"
   ]
  },
  {
   "cell_type": "code",
   "execution_count": 13,
   "metadata": {},
   "outputs": [
    {
     "output_type": "stream",
     "name": "stdout",
     "text": [
      "Albert Einstein\nJ.K. Rowling\nAlbert Einstein\nJane Austen\nMarilyn Monroe\nAlbert Einstein\nAndré Gide\nThomas A. Edison\nEleanor Roosevelt\nSteve Martin\n"
     ]
    }
   ],
   "source": [
    "for ele in soup.select(\".author\"):\n",
    "    print(ele.getText())"
   ]
  },
  {
   "cell_type": "code",
   "execution_count": 15,
   "metadata": {},
   "outputs": [],
   "source": [
    "authors = getAuthors(soup)"
   ]
  },
  {
   "cell_type": "code",
   "execution_count": 17,
   "metadata": {},
   "outputs": [
    {
     "output_type": "execute_result",
     "data": {
      "text/plain": [
       "['Albert Einstein',\n",
       " 'J.K. Rowling',\n",
       " 'Albert Einstein',\n",
       " 'Jane Austen',\n",
       " 'Marilyn Monroe',\n",
       " 'Albert Einstein',\n",
       " 'André Gide',\n",
       " 'Thomas A. Edison',\n",
       " 'Eleanor Roosevelt',\n",
       " 'Steve Martin']"
      ]
     },
     "metadata": {},
     "execution_count": 17
    }
   ],
   "source": [
    "authors"
   ]
  },
  {
   "cell_type": "code",
   "execution_count": 19,
   "metadata": {},
   "outputs": [
    {
     "output_type": "execute_result",
     "data": {
      "text/plain": [
       "[<span class=\"text\" itemprop=\"text\">“The world as we have created it is a process of our thinking. It cannot be changed without changing our thinking.”</span>,\n",
       " <span class=\"text\" itemprop=\"text\">“It is our choices, Harry, that show what we truly are, far more than our abilities.”</span>,\n",
       " <span class=\"text\" itemprop=\"text\">“There are only two ways to live your life. One is as though nothing is a miracle. The other is as though everything is a miracle.”</span>,\n",
       " <span class=\"text\" itemprop=\"text\">“The person, be it gentleman or lady, who has not pleasure in a good novel, must be intolerably stupid.”</span>,\n",
       " <span class=\"text\" itemprop=\"text\">“Imperfection is beauty, madness is genius and it's better to be absolutely ridiculous than absolutely boring.”</span>,\n",
       " <span class=\"text\" itemprop=\"text\">“Try not to become a man of success. Rather become a man of value.”</span>,\n",
       " <span class=\"text\" itemprop=\"text\">“It is better to be hated for what you are than to be loved for what you are not.”</span>,\n",
       " <span class=\"text\" itemprop=\"text\">“I have not failed. I've just found 10,000 ways that won't work.”</span>,\n",
       " <span class=\"text\" itemprop=\"text\">“A woman is like a tea bag; you never know how strong it is until it's in hot water.”</span>,\n",
       " <span class=\"text\" itemprop=\"text\">“A day without sunshine is like, you know, night.”</span>]"
      ]
     },
     "metadata": {},
     "execution_count": 19
    }
   ],
   "source": [
    "soup.select(\".quote > .text\")"
   ]
  },
  {
   "cell_type": "code",
   "execution_count": 25,
   "metadata": {},
   "outputs": [],
   "source": [
    "def getQuotes(soup):\n",
    "    quotes = []\n",
    "    for ele in soup.select(\".quote>.text\"):\n",
    "        quotes.append(ele.getText())\n",
    "    return quotes"
   ]
  },
  {
   "cell_type": "code",
   "execution_count": 26,
   "metadata": {},
   "outputs": [],
   "source": [
    "quotes = getQuotes(soup)"
   ]
  },
  {
   "cell_type": "code",
   "execution_count": 27,
   "metadata": {},
   "outputs": [
    {
     "output_type": "execute_result",
     "data": {
      "text/plain": [
       "['“The world as we have created it is a process of our thinking. It cannot be changed without changing our thinking.”',\n",
       " '“It is our choices, Harry, that show what we truly are, far more than our abilities.”',\n",
       " '“There are only two ways to live your life. One is as though nothing is a miracle. The other is as though everything is a miracle.”',\n",
       " '“The person, be it gentleman or lady, who has not pleasure in a good novel, must be intolerably stupid.”',\n",
       " \"“Imperfection is beauty, madness is genius and it's better to be absolutely ridiculous than absolutely boring.”\",\n",
       " '“Try not to become a man of success. Rather become a man of value.”',\n",
       " '“It is better to be hated for what you are than to be loved for what you are not.”',\n",
       " \"“I have not failed. I've just found 10,000 ways that won't work.”\",\n",
       " \"“A woman is like a tea bag; you never know how strong it is until it's in hot water.”\",\n",
       " '“A day without sunshine is like, you know, night.”']"
      ]
     },
     "metadata": {},
     "execution_count": 27
    }
   ],
   "source": [
    "quotes"
   ]
  },
  {
   "cell_type": "code",
   "execution_count": 30,
   "metadata": {},
   "outputs": [
    {
     "output_type": "stream",
     "name": "stdout",
     "text": [
      "love\ninspirational\nlife\nhumor\nbooks\nreading\nfriendship\nfriends\ntruth\nsimile\n"
     ]
    }
   ],
   "source": [
    "for ele in soup.select(\".tag-item>.tag\"):\n",
    "    print(ele.getText())"
   ]
  },
  {
   "cell_type": "code",
   "execution_count": 31,
   "metadata": {},
   "outputs": [],
   "source": [
    "def getTopTags(soup):\n",
    "    tags = []\n",
    "    for elem in soup.select(\".tag-item>a\"):\n",
    "        tags.append(elem.getText())\n",
    "    return tags"
   ]
  },
  {
   "cell_type": "code",
   "execution_count": 32,
   "metadata": {},
   "outputs": [],
   "source": [
    "topTags = getTopTags(soup)"
   ]
  },
  {
   "cell_type": "code",
   "execution_count": 34,
   "metadata": {},
   "outputs": [
    {
     "output_type": "execute_result",
     "data": {
      "text/plain": [
       "['love',\n",
       " 'inspirational',\n",
       " 'life',\n",
       " 'humor',\n",
       " 'books',\n",
       " 'reading',\n",
       " 'friendship',\n",
       " 'friends',\n",
       " 'truth',\n",
       " 'simile']"
      ]
     },
     "metadata": {},
     "execution_count": 34
    }
   ],
   "source": [
    "topTags"
   ]
  },
  {
   "cell_type": "code",
   "execution_count": 35,
   "metadata": {},
   "outputs": [],
   "source": [
    "baseUrl = \"http://quotes.toscrape.com/page/{}/\""
   ]
  },
  {
   "cell_type": "code",
   "execution_count": 36,
   "metadata": {},
   "outputs": [
    {
     "output_type": "execute_result",
     "data": {
      "text/plain": [
       "'http://quotes.toscrape.com/page/1/'"
      ]
     },
     "metadata": {},
     "execution_count": 36
    }
   ],
   "source": [
    "baseUrl.format(1)"
   ]
  },
  {
   "cell_type": "code",
   "execution_count": 19,
   "metadata": {},
   "outputs": [],
   "source": [
    "result = requests.get(\"http://quotes.toscrape.com/page/10/\")"
   ]
  },
  {
   "cell_type": "code",
   "execution_count": 20,
   "metadata": {},
   "outputs": [
    {
     "output_type": "execute_result",
     "data": {
      "text/plain": [
       "9890"
      ]
     },
     "metadata": {},
     "execution_count": 20
    }
   ],
   "source": [
    "len(result.text)"
   ]
  },
  {
   "cell_type": "code",
   "execution_count": 21,
   "metadata": {},
   "outputs": [
    {
     "output_type": "stream",
     "name": "stdout",
     "text": [
      "<class 'str'>\n"
     ]
    }
   ],
   "source": [
    "print(type(result.text))"
   ]
  },
  {
   "cell_type": "code",
   "execution_count": 22,
   "metadata": {},
   "outputs": [],
   "source": [
    "soup = bs4.BeautifulSoup(result.text,\"lxml\")"
   ]
  },
  {
   "cell_type": "code",
   "execution_count": 23,
   "metadata": {},
   "outputs": [
    {
     "output_type": "execute_result",
     "data": {
      "text/plain": [
       "<!DOCTYPE html>\n",
       "<html lang=\"en\">\n",
       "<head>\n",
       "<meta charset=\"utf-8\"/>\n",
       "<title>Quotes to Scrape</title>\n",
       "<link href=\"/static/bootstrap.min.css\" rel=\"stylesheet\"/>\n",
       "<link href=\"/static/main.css\" rel=\"stylesheet\"/>\n",
       "</head>\n",
       "<body>\n",
       "<div class=\"container\">\n",
       "<div class=\"row header-box\">\n",
       "<div class=\"col-md-8\">\n",
       "<h1>\n",
       "<a href=\"/\" style=\"text-decoration: none\">Quotes to Scrape</a>\n",
       "</h1>\n",
       "</div>\n",
       "<div class=\"col-md-4\">\n",
       "<p>\n",
       "<a href=\"/login\">Login</a>\n",
       "</p>\n",
       "</div>\n",
       "</div>\n",
       "<div class=\"row\">\n",
       "<div class=\"col-md-8\">\n",
       "<div class=\"quote\" itemscope=\"\" itemtype=\"http://schema.org/CreativeWork\">\n",
       "<span class=\"text\" itemprop=\"text\">“The truth.\" Dumbledore sighed. \"It is a beautiful and terrible thing, and should therefore be treated with great caution.”</span>\n",
       "<span>by <small class=\"author\" itemprop=\"author\">J.K. Rowling</small>\n",
       "<a href=\"/author/J-K-Rowling\">(about)</a>\n",
       "</span>\n",
       "<div class=\"tags\">\n",
       "            Tags:\n",
       "            <meta class=\"keywords\" content=\"truth\" itemprop=\"keywords\"/>\n",
       "<a class=\"tag\" href=\"/tag/truth/page/1/\">truth</a>\n",
       "</div>\n",
       "</div>\n",
       "<div class=\"quote\" itemscope=\"\" itemtype=\"http://schema.org/CreativeWork\">\n",
       "<span class=\"text\" itemprop=\"text\">“I'm the one that's got to die when it's time for me to die, so let me live my life the way I want to.”</span>\n",
       "<span>by <small class=\"author\" itemprop=\"author\">Jimi Hendrix</small>\n",
       "<a href=\"/author/Jimi-Hendrix\">(about)</a>\n",
       "</span>\n",
       "<div class=\"tags\">\n",
       "            Tags:\n",
       "            <meta class=\"keywords\" content=\"death,life\" itemprop=\"keywords\"/>\n",
       "<a class=\"tag\" href=\"/tag/death/page/1/\">death</a>\n",
       "<a class=\"tag\" href=\"/tag/life/page/1/\">life</a>\n",
       "</div>\n",
       "</div>\n",
       "<div class=\"quote\" itemscope=\"\" itemtype=\"http://schema.org/CreativeWork\">\n",
       "<span class=\"text\" itemprop=\"text\">“To die will be an awfully big adventure.”</span>\n",
       "<span>by <small class=\"author\" itemprop=\"author\">J.M. Barrie</small>\n",
       "<a href=\"/author/J-M-Barrie\">(about)</a>\n",
       "</span>\n",
       "<div class=\"tags\">\n",
       "            Tags:\n",
       "            <meta class=\"keywords\" content=\"adventure,love\" itemprop=\"keywords\"/>\n",
       "<a class=\"tag\" href=\"/tag/adventure/page/1/\">adventure</a>\n",
       "<a class=\"tag\" href=\"/tag/love/page/1/\">love</a>\n",
       "</div>\n",
       "</div>\n",
       "<div class=\"quote\" itemscope=\"\" itemtype=\"http://schema.org/CreativeWork\">\n",
       "<span class=\"text\" itemprop=\"text\">“It takes courage to grow up and become who you really are.”</span>\n",
       "<span>by <small class=\"author\" itemprop=\"author\">E.E. Cummings</small>\n",
       "<a href=\"/author/E-E-Cummings\">(about)</a>\n",
       "</span>\n",
       "<div class=\"tags\">\n",
       "            Tags:\n",
       "            <meta class=\"keywords\" content=\"courage\" itemprop=\"keywords\"/>\n",
       "<a class=\"tag\" href=\"/tag/courage/page/1/\">courage</a>\n",
       "</div>\n",
       "</div>\n",
       "<div class=\"quote\" itemscope=\"\" itemtype=\"http://schema.org/CreativeWork\">\n",
       "<span class=\"text\" itemprop=\"text\">“But better to get hurt by the truth than comforted with a lie.”</span>\n",
       "<span>by <small class=\"author\" itemprop=\"author\">Khaled Hosseini</small>\n",
       "<a href=\"/author/Khaled-Hosseini\">(about)</a>\n",
       "</span>\n",
       "<div class=\"tags\">\n",
       "            Tags:\n",
       "            <meta class=\"keywords\" content=\"life\" itemprop=\"keywords\"/>\n",
       "<a class=\"tag\" href=\"/tag/life/page/1/\">life</a>\n",
       "</div>\n",
       "</div>\n",
       "<div class=\"quote\" itemscope=\"\" itemtype=\"http://schema.org/CreativeWork\">\n",
       "<span class=\"text\" itemprop=\"text\">“You never really understand a person until you consider things from his point of view... Until you climb inside of his skin and walk around in it.”</span>\n",
       "<span>by <small class=\"author\" itemprop=\"author\">Harper Lee</small>\n",
       "<a href=\"/author/Harper-Lee\">(about)</a>\n",
       "</span>\n",
       "<div class=\"tags\">\n",
       "            Tags:\n",
       "            <meta class=\"keywords\" content=\"better-life-empathy\" itemprop=\"keywords\"/>\n",
       "<a class=\"tag\" href=\"/tag/better-life-empathy/page/1/\">better-life-empathy</a>\n",
       "</div>\n",
       "</div>\n",
       "<div class=\"quote\" itemscope=\"\" itemtype=\"http://schema.org/CreativeWork\">\n",
       "<span class=\"text\" itemprop=\"text\">“You have to write the book that wants to be written. And if the book will be too difficult for grown-ups, then you write it for children.”</span>\n",
       "<span>by <small class=\"author\" itemprop=\"author\">Madeleine L'Engle</small>\n",
       "<a href=\"/author/Madeleine-LEngle\">(about)</a>\n",
       "</span>\n",
       "<div class=\"tags\">\n",
       "            Tags:\n",
       "            <meta class=\"keywords\" content=\"books,children,difficult,grown-ups,write,writers,writing\" itemprop=\"keywords\"/>\n",
       "<a class=\"tag\" href=\"/tag/books/page/1/\">books</a>\n",
       "<a class=\"tag\" href=\"/tag/children/page/1/\">children</a>\n",
       "<a class=\"tag\" href=\"/tag/difficult/page/1/\">difficult</a>\n",
       "<a class=\"tag\" href=\"/tag/grown-ups/page/1/\">grown-ups</a>\n",
       "<a class=\"tag\" href=\"/tag/write/page/1/\">write</a>\n",
       "<a class=\"tag\" href=\"/tag/writers/page/1/\">writers</a>\n",
       "<a class=\"tag\" href=\"/tag/writing/page/1/\">writing</a>\n",
       "</div>\n",
       "</div>\n",
       "<div class=\"quote\" itemscope=\"\" itemtype=\"http://schema.org/CreativeWork\">\n",
       "<span class=\"text\" itemprop=\"text\">“Never tell the truth to people who are not worthy of it.”</span>\n",
       "<span>by <small class=\"author\" itemprop=\"author\">Mark Twain</small>\n",
       "<a href=\"/author/Mark-Twain\">(about)</a>\n",
       "</span>\n",
       "<div class=\"tags\">\n",
       "            Tags:\n",
       "            <meta class=\"keywords\" content=\"truth\" itemprop=\"keywords\"/>\n",
       "<a class=\"tag\" href=\"/tag/truth/page/1/\">truth</a>\n",
       "</div>\n",
       "</div>\n",
       "<div class=\"quote\" itemscope=\"\" itemtype=\"http://schema.org/CreativeWork\">\n",
       "<span class=\"text\" itemprop=\"text\">“A person's a person, no matter how small.”</span>\n",
       "<span>by <small class=\"author\" itemprop=\"author\">Dr. Seuss</small>\n",
       "<a href=\"/author/Dr-Seuss\">(about)</a>\n",
       "</span>\n",
       "<div class=\"tags\">\n",
       "            Tags:\n",
       "            <meta class=\"keywords\" content=\"inspirational\" itemprop=\"keywords\"/>\n",
       "<a class=\"tag\" href=\"/tag/inspirational/page/1/\">inspirational</a>\n",
       "</div>\n",
       "</div>\n",
       "<div class=\"quote\" itemscope=\"\" itemtype=\"http://schema.org/CreativeWork\">\n",
       "<span class=\"text\" itemprop=\"text\">“... a mind needs books as a sword needs a whetstone, if it is to keep its edge.”</span>\n",
       "<span>by <small class=\"author\" itemprop=\"author\">George R.R. Martin</small>\n",
       "<a href=\"/author/George-R-R-Martin\">(about)</a>\n",
       "</span>\n",
       "<div class=\"tags\">\n",
       "            Tags:\n",
       "            <meta class=\"keywords\" content=\"books,mind\" itemprop=\"keywords\"/>\n",
       "<a class=\"tag\" href=\"/tag/books/page/1/\">books</a>\n",
       "<a class=\"tag\" href=\"/tag/mind/page/1/\">mind</a>\n",
       "</div>\n",
       "</div>\n",
       "<nav>\n",
       "<ul class=\"pager\">\n",
       "<li class=\"previous\">\n",
       "<a href=\"/page/9/\"><span aria-hidden=\"true\">←</span> Previous</a>\n",
       "</li>\n",
       "</ul>\n",
       "</nav>\n",
       "</div>\n",
       "<div class=\"col-md-4 tags-box\">\n",
       "<h2>Top Ten tags</h2>\n",
       "<span class=\"tag-item\">\n",
       "<a class=\"tag\" href=\"/tag/love/\" style=\"font-size: 28px\">love</a>\n",
       "</span>\n",
       "<span class=\"tag-item\">\n",
       "<a class=\"tag\" href=\"/tag/inspirational/\" style=\"font-size: 26px\">inspirational</a>\n",
       "</span>\n",
       "<span class=\"tag-item\">\n",
       "<a class=\"tag\" href=\"/tag/life/\" style=\"font-size: 26px\">life</a>\n",
       "</span>\n",
       "<span class=\"tag-item\">\n",
       "<a class=\"tag\" href=\"/tag/humor/\" style=\"font-size: 24px\">humor</a>\n",
       "</span>\n",
       "<span class=\"tag-item\">\n",
       "<a class=\"tag\" href=\"/tag/books/\" style=\"font-size: 22px\">books</a>\n",
       "</span>\n",
       "<span class=\"tag-item\">\n",
       "<a class=\"tag\" href=\"/tag/reading/\" style=\"font-size: 14px\">reading</a>\n",
       "</span>\n",
       "<span class=\"tag-item\">\n",
       "<a class=\"tag\" href=\"/tag/friendship/\" style=\"font-size: 10px\">friendship</a>\n",
       "</span>\n",
       "<span class=\"tag-item\">\n",
       "<a class=\"tag\" href=\"/tag/friends/\" style=\"font-size: 8px\">friends</a>\n",
       "</span>\n",
       "<span class=\"tag-item\">\n",
       "<a class=\"tag\" href=\"/tag/truth/\" style=\"font-size: 8px\">truth</a>\n",
       "</span>\n",
       "<span class=\"tag-item\">\n",
       "<a class=\"tag\" href=\"/tag/simile/\" style=\"font-size: 6px\">simile</a>\n",
       "</span>\n",
       "</div>\n",
       "</div>\n",
       "</div>\n",
       "<footer class=\"footer\">\n",
       "<div class=\"container\">\n",
       "<p class=\"text-muted\">\n",
       "                Quotes by: <a href=\"https://www.goodreads.com/quotes\">GoodReads.com</a>\n",
       "</p>\n",
       "<p class=\"copyright\">\n",
       "                Made with <span class=\"sh-red\">❤</span> by <a href=\"https://scrapinghub.com\">Scrapinghub</a>\n",
       "</p>\n",
       "</div>\n",
       "</footer>\n",
       "</body>\n",
       "</html>"
      ]
     },
     "metadata": {},
     "execution_count": 23
    }
   ],
   "source": [
    "soup"
   ]
  },
  {
   "cell_type": "code",
   "execution_count": 24,
   "metadata": {},
   "outputs": [],
   "source": [
    "prevButton = soup.select(\".previous\")"
   ]
  },
  {
   "cell_type": "code",
   "execution_count": 25,
   "metadata": {},
   "outputs": [
    {
     "output_type": "execute_result",
     "data": {
      "text/plain": [
       "[<li class=\"previous\">\n",
       " <a href=\"/page/9/\"><span aria-hidden=\"true\">←</span> Previous</a>\n",
       " </li>]"
      ]
     },
     "metadata": {},
     "execution_count": 25
    }
   ],
   "source": [
    "prevButton"
   ]
  },
  {
   "cell_type": "code",
   "execution_count": 26,
   "metadata": {},
   "outputs": [],
   "source": [
    "nextButton = soup.select(\".next\")"
   ]
  },
  {
   "cell_type": "code",
   "execution_count": 28,
   "metadata": {},
   "outputs": [
    {
     "output_type": "execute_result",
     "data": {
      "text/plain": [
       "True"
      ]
     },
     "metadata": {},
     "execution_count": 28
    }
   ],
   "source": [
    "nextButton == []"
   ]
  },
  {
   "cell_type": "code",
   "execution_count": 31,
   "metadata": {},
   "outputs": [
    {
     "output_type": "execute_result",
     "data": {
      "text/plain": [
       "bs4.element.ResultSet"
      ]
     },
     "metadata": {},
     "execution_count": 31
    }
   ],
   "source": [
    "type(prevButton)"
   ]
  },
  {
   "cell_type": "code",
   "execution_count": 68,
   "metadata": {},
   "outputs": [],
   "source": [
    "def getUniqueAuthor():\n",
    "    import requests\n",
    "    import bs4\n",
    "    baseUrl = \"http://quotes.toscrape.com/page/{}/\"\n",
    "    idx = 1\n",
    "    authors = []\n",
    "    while True:\n",
    "        result = requests.get(baseUrl.format(idx))\n",
    "        soup = bs4.BeautifulSoup(result.text,\"lxml\")\n",
    "        nextButton = soup.select(\".next\")\n",
    "        tempAuths = soup.select(\".author\")\n",
    "        for auth in tempAuths:\n",
    "            if auth.getText() not in authors:\n",
    "                authors.append(auth.getText())\n",
    "        if nextButton == []:\n",
    "            print(\"breaking through nextButton\")\n",
    "            break\n",
    "        elif idx == 10:\n",
    "            print(\"Breaking through IDX\")\n",
    "            break\n",
    "        idx += 1\n",
    "    return authors"
   ]
  },
  {
   "cell_type": "code",
   "execution_count": 70,
   "metadata": {},
   "outputs": [
    {
     "output_type": "stream",
     "name": "stdout",
     "text": [
      "breaking through nextButton\n"
     ]
    }
   ],
   "source": [
    "uniqAuths = getUniqueAuthor()"
   ]
  },
  {
   "cell_type": "code",
   "execution_count": 55,
   "metadata": {},
   "outputs": [
    {
     "output_type": "stream",
     "name": "stdout",
     "text": [
      "J.K. Rowling\nJimi Hendrix\nJ.M. Barrie\nE.E. Cummings\nKhaled Hosseini\nHarper Lee\nMadeleine L'Engle\nMark Twain\nDr. Seuss\nGeorge R.R. Martin\n"
     ]
    }
   ],
   "source": [
    "for i in soup.select(\".author\"):\n",
    "    print(i.getText())"
   ]
  },
  {
   "cell_type": "code",
   "execution_count": 71,
   "metadata": {},
   "outputs": [
    {
     "output_type": "execute_result",
     "data": {
      "text/plain": [
       "['Albert Einstein',\n",
       " 'J.K. Rowling',\n",
       " 'Jane Austen',\n",
       " 'Marilyn Monroe',\n",
       " 'André Gide',\n",
       " 'Thomas A. Edison',\n",
       " 'Eleanor Roosevelt',\n",
       " 'Steve Martin',\n",
       " 'Bob Marley',\n",
       " 'Dr. Seuss',\n",
       " 'Douglas Adams',\n",
       " 'Elie Wiesel',\n",
       " 'Friedrich Nietzsche',\n",
       " 'Mark Twain',\n",
       " 'Allen Saunders',\n",
       " 'Pablo Neruda',\n",
       " 'Ralph Waldo Emerson',\n",
       " 'Mother Teresa',\n",
       " 'Garrison Keillor',\n",
       " 'Jim Henson',\n",
       " 'Charles M. Schulz',\n",
       " 'William Nicholson',\n",
       " 'Jorge Luis Borges',\n",
       " 'George Eliot',\n",
       " 'George R.R. Martin',\n",
       " 'C.S. Lewis',\n",
       " 'Martin Luther King Jr.',\n",
       " 'James Baldwin',\n",
       " 'Haruki Murakami',\n",
       " 'Alexandre Dumas fils',\n",
       " 'Stephenie Meyer',\n",
       " 'Ernest Hemingway',\n",
       " 'Helen Keller',\n",
       " 'George Bernard Shaw',\n",
       " 'Charles Bukowski',\n",
       " 'Suzanne Collins',\n",
       " 'J.R.R. Tolkien',\n",
       " 'Alfred Tennyson',\n",
       " 'Terry Pratchett',\n",
       " 'J.D. Salinger',\n",
       " 'George Carlin',\n",
       " 'John Lennon',\n",
       " 'W.C. Fields',\n",
       " 'Ayn Rand',\n",
       " 'Jimi Hendrix',\n",
       " 'J.M. Barrie',\n",
       " 'E.E. Cummings',\n",
       " 'Khaled Hosseini',\n",
       " 'Harper Lee',\n",
       " \"Madeleine L'Engle\"]"
      ]
     },
     "metadata": {},
     "execution_count": 71
    }
   ],
   "source": [
    "uniqAuths"
   ]
  },
  {
   "cell_type": "code",
   "execution_count": 72,
   "metadata": {},
   "outputs": [
    {
     "output_type": "execute_result",
     "data": {
      "text/plain": [
       "50"
      ]
     },
     "metadata": {},
     "execution_count": 72
    }
   ],
   "source": [
    "len(uniqAuths)"
   ]
  },
  {
   "cell_type": "code",
   "execution_count": 73,
   "metadata": {},
   "outputs": [
    {
     "output_type": "execute_result",
     "data": {
      "text/plain": [
       "50"
      ]
     },
     "metadata": {},
     "execution_count": 73
    }
   ],
   "source": [
    "len(set(uniqAuths))"
   ]
  },
  {
   "cell_type": "code",
   "execution_count": 75,
   "metadata": {},
   "outputs": [
    {
     "output_type": "execute_result",
     "data": {
      "text/plain": [
       "2"
      ]
     },
     "metadata": {},
     "execution_count": 75
    }
   ],
   "source": [
    "len(set([1,1,1,12,12]))"
   ]
  },
  {
   "cell_type": "code",
   "execution_count": null,
   "metadata": {},
   "outputs": [],
   "source": []
  }
 ]
}