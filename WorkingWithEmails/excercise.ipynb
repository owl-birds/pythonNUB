{
 "metadata": {
  "language_info": {
   "codemirror_mode": {
    "name": "ipython",
    "version": 3
   },
   "file_extension": ".py",
   "mimetype": "text/x-python",
   "name": "python",
   "nbconvert_exporter": "python",
   "pygments_lexer": "ipython3",
   "version": 3
  },
  "orig_nbformat": 2
 },
 "nbformat": 4,
 "nbformat_minor": 2,
 "cells": [
  {
   "source": [
    "\n",
    "Python Email Exercise Ideas\n",
    "Since we can't really assess any code that would involve your personal email address, here are some ideas for you to test your new skills. Please keep in mind, we can not assess these.\n",
    "\n",
    "Ideas\n",
    "Daily Automatic Email Reminder for your Tasks\n",
    "Webscrape some statistics from a website automatically each day and email them to yourself\n",
    "Automatically email daily/weekly/monthly reports at your work\n",
    "Have end of day messages to your friends and family be sent out at random to spread joy\n",
    "Be creative! Mix together any of the skills you've learned so far with email :)"
   ],
   "cell_type": "markdown",
   "metadata": {}
  },
  {
   "cell_type": "code",
   "execution_count": null,
   "metadata": {},
   "outputs": [],
   "source": []
  }
 ]
}