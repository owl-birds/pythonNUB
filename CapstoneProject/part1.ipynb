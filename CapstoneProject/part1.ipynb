{
 "metadata": {
  "language_info": {
   "codemirror_mode": {
    "name": "ipython",
    "version": 3
   },
   "file_extension": ".py",
   "mimetype": "text/x-python",
   "name": "python",
   "nbconvert_exporter": "python",
   "pygments_lexer": "ipython3",
   "version": "3.9.1-final"
  },
  "orig_nbformat": 2,
  "kernelspec": {
   "name": "python3",
   "display_name": "Python 3.9.1 64-bit",
   "metadata": {
    "interpreter": {
     "hash": "63fd5069d213b44bf678585dea6b12cceca9941eaf7f819626cde1f2670de90d"
    }
   }
  }
 },
 "nbformat": 4,
 "nbformat_minor": 2,
 "cells": [
  {
   "source": [
    "# Find PI to the Nth Digit"
   ],
   "cell_type": "markdown",
   "metadata": {}
  },
  {
   "cell_type": "code",
   "execution_count": 1,
   "metadata": {},
   "outputs": [
    {
     "output_type": "execute_result",
     "data": {
      "text/plain": [
       "3.141592653589793"
      ]
     },
     "metadata": {},
     "execution_count": 1
    }
   ],
   "source": [
    "import math\n",
    "math.pi"
   ]
  },
  {
   "source": [
    "One of the most well known and beautiful ways to calculate Pi (π) is to use the Gregory-Leibniz Series"
   ],
   "cell_type": "markdown",
   "metadata": {}
  },
  {
   "source": [
    "pi/4 = 1 - 1/3 + 1/5 - 1/7 + 1/9 - ..."
   ],
   "cell_type": "markdown",
   "metadata": {}
  },
  {
   "source": [
    "if you continued this pattern forever you would be able to calculate \\frac{\\pi}{4} exactly and then just multiply it by 4 in order to get \\pi.. If however you start to add up the first few terms, you will begin to get an approximation for Pi (π). The problem with the series above is that you need to add up a lot of terms in order to get an accurate approximation of Pi (π). You need to add up more than 300 terms in order to produce Pi (π) accurate to two decimal places!"
   ],
   "cell_type": "markdown",
   "metadata": {}
  },
  {
   "source": [
    "Another series which converges more quickly is the Nilakantha Series which was developed in the 15th century. Converges more quickly means that you need to work out fewer terms for your answer to become closer to Pi (π) ."
   ],
   "cell_type": "markdown",
   "metadata": {}
  },
  {
   "source": [
    "Nilakantha series: pi = 3 + (4/(2.3.4)) - (4/(4.5.6)) + (4/(6.7.8)) - (4/(8.9.10)) + ..."
   ],
   "cell_type": "markdown",
   "metadata": {}
  },
  {
   "cell_type": "code",
   "execution_count": 18,
   "metadata": {},
   "outputs": [],
   "source": [
    "def nilakanthePI(n):\n",
    "    res = 3\n",
    "    temp = 2\n",
    "    for i in range(1,n+1):\n",
    "        if i % 2 != 0:\n",
    "            res += (4/(temp*(temp+1)*(temp+2)))\n",
    "        else:\n",
    "            res -= (4/(temp*(temp+1)*(temp+2)))\n",
    "        temp += 2\n",
    "    return res"
   ]
  },
  {
   "cell_type": "code",
   "execution_count": 19,
   "metadata": {},
   "outputs": [
    {
     "output_type": "stream",
     "name": "stdout",
     "text": [
      "3.141592653589787\n"
     ]
    }
   ],
   "source": [
    "print(nilakanthePI(10000000))"
   ]
  },
  {
   "cell_type": "code",
   "execution_count": 9,
   "metadata": {},
   "outputs": [
    {
     "output_type": "execute_result",
     "data": {
      "text/plain": [
       "3.141592653589793"
      ]
     },
     "metadata": {},
     "execution_count": 9
    }
   ],
   "source": [
    "math.pi"
   ]
  },
  {
   "cell_type": "code",
   "execution_count": 20,
   "metadata": {},
   "outputs": [
    {
     "output_type": "execute_result",
     "data": {
      "text/plain": [
       "3.1415929203539825"
      ]
     },
     "metadata": {},
     "execution_count": 20
    }
   ],
   "source": [
    "355/113"
   ]
  },
  {
   "source": [
    "# finding euler nums"
   ],
   "cell_type": "markdown",
   "metadata": {}
  },
  {
   "cell_type": "code",
   "execution_count": 21,
   "metadata": {},
   "outputs": [],
   "source": [
    "# (1 + (1/n))^n\n",
    "def calculateEulerNum(n):\n",
    "    return (1 + (1/n))**n"
   ]
  },
  {
   "cell_type": "code",
   "execution_count": 29,
   "metadata": {},
   "outputs": [
    {
     "output_type": "execute_result",
     "data": {
      "text/plain": [
       "2.7182817983473577"
      ]
     },
     "metadata": {},
     "execution_count": 29
    }
   ],
   "source": [
    "calculateEulerNum(100000000)"
   ]
  },
  {
   "cell_type": "code",
   "execution_count": 25,
   "metadata": {},
   "outputs": [
    {
     "output_type": "execute_result",
     "data": {
      "text/plain": [
       "2.718281828459045"
      ]
     },
     "metadata": {},
     "execution_count": 25
    }
   ],
   "source": [
    "math.e"
   ]
  },
  {
   "source": [
    "# FIBONACCI SEQUENCE"
   ],
   "cell_type": "markdown",
   "metadata": {}
  },
  {
   "source": [
    "1 1 2 3 5 8 13 21 34 55 89 144 ..."
   ],
   "cell_type": "markdown",
   "metadata": {}
  },
  {
   "cell_type": "code",
   "execution_count": 30,
   "metadata": {},
   "outputs": [],
   "source": [
    "def fibonacciNumGen(n):\n",
    "    num1 = 0\n",
    "    num2 = 1\n",
    "    for i in range(n):\n",
    "        yield num2\n",
    "        temp = num1\n",
    "        num1 = num2\n",
    "        num2 += temp  "
   ]
  },
  {
   "cell_type": "code",
   "execution_count": 33,
   "metadata": {},
   "outputs": [
    {
     "output_type": "execute_result",
     "data": {
      "text/plain": [
       "[1, 1, 2, 3, 5, 8, 13, 21, 34, 55, 89, 144, 233, 377, 610]"
      ]
     },
     "metadata": {},
     "execution_count": 33
    }
   ],
   "source": [
    "list(fibonacciNumGen(15))"
   ]
  },
  {
   "source": [
    "# PRIME FACTORIZATION"
   ],
   "cell_type": "markdown",
   "metadata": {}
  },
  {
   "cell_type": "code",
   "execution_count": 70,
   "metadata": {},
   "outputs": [],
   "source": [
    "def isPrime(num):\n",
    "    if num in [2,3]:\n",
    "        return True\n",
    "    elif num <= 1:\n",
    "        return False\n",
    "    else:\n",
    "        for i in range(2,int(num/2)+1):\n",
    "            if num % i == 0:\n",
    "                return False\n",
    "        return True"
   ]
  },
  {
   "cell_type": "code",
   "execution_count": 71,
   "metadata": {},
   "outputs": [
    {
     "output_type": "stream",
     "name": "stdout",
     "text": [
      "True\nTrue\nFalse\nTrue\nTrue\nTrue\nTrue\n2222\nTrue\n"
     ]
    }
   ],
   "source": [
    "print(isPrime(2))\n",
    "print(isPrime(3))\n",
    "print(isPrime(4))\n",
    "print(isPrime(19))\n",
    "print(isPrime(997))\n",
    "print(isPrime(991))\n",
    "print(isPrime(809))\n",
    "print(\"2222\")\n",
    "print(isPrime(977))"
   ]
  },
  {
   "cell_type": "code",
   "execution_count": 72,
   "metadata": {},
   "outputs": [],
   "source": [
    "def primeFactors(num):\n",
    "    for i in range(1,int(num/2)+1):\n",
    "        if num % i == 0 and isPrime(i):\n",
    "            yield i\n",
    "    if isPrime(num):\n",
    "        yield num"
   ]
  },
  {
   "cell_type": "code",
   "execution_count": 73,
   "metadata": {},
   "outputs": [
    {
     "output_type": "execute_result",
     "data": {
      "text/plain": [
       "[2, 5]"
      ]
     },
     "metadata": {},
     "execution_count": 73
    }
   ],
   "source": [
    "list(primeFactors(100))"
   ]
  },
  {
   "cell_type": "code",
   "execution_count": 74,
   "metadata": {},
   "outputs": [
    {
     "output_type": "execute_result",
     "data": {
      "text/plain": [
       "False"
      ]
     },
     "metadata": {},
     "execution_count": 74
    }
   ],
   "source": [
    "isPrime(25)"
   ]
  },
  {
   "cell_type": "code",
   "execution_count": 77,
   "metadata": {},
   "outputs": [
    {
     "output_type": "stream",
     "name": "stdout",
     "text": [
      "[2, 3, 5, 7, 11, 13, 17, 19, 23, 29, 31, 37, 41, 43, 47, 53, 59, 61, 67, 71, 73, 79, 83, 89, 97]\n"
     ]
    }
   ],
   "source": [
    "under100 = []\n",
    "for i in range(1,101):\n",
    "    if isPrime(i):\n",
    "        under100.append(i)\n",
    "print(under100)"
   ]
  },
  {
   "source": [
    "# NEXT PRIME NUMBERS"
   ],
   "cell_type": "markdown",
   "metadata": {}
  },
  {
   "cell_type": "code",
   "execution_count": 80,
   "metadata": {},
   "outputs": [],
   "source": [
    "def nextPrime():\n",
    "    temp = 1\n",
    "    while True:\n",
    "        if isPrime(temp):\n",
    "            print(temp)\n",
    "            opt = input(\"1 Quit else continue\")\n",
    "            if opt == \"1\":\n",
    "                print(\"QUITING\")\n",
    "                break\n",
    "        temp += 1"
   ]
  },
  {
   "cell_type": "code",
   "execution_count": 84,
   "metadata": {},
   "outputs": [
    {
     "output_type": "stream",
     "name": "stdout",
     "text": [
      "2\n",
      "3\n",
      "5\n",
      "7\n",
      "QUITING\n"
     ]
    }
   ],
   "source": [
    "nextPrime()"
   ]
  },
  {
   "source": [
    "# FACTORIAL"
   ],
   "cell_type": "markdown",
   "metadata": {}
  },
  {
   "cell_type": "code",
   "execution_count": 85,
   "metadata": {},
   "outputs": [],
   "source": [
    "def factorial(n):\n",
    "    if n in [0,1]:\n",
    "        return 1\n",
    "    else:\n",
    "        return n * factorial(n-1)"
   ]
  },
  {
   "cell_type": "code",
   "execution_count": 89,
   "metadata": {},
   "outputs": [
    {
     "output_type": "execute_result",
     "data": {
      "text/plain": [
       "5040"
      ]
     },
     "metadata": {},
     "execution_count": 89
    }
   ],
   "source": [
    "factorial(7)"
   ]
  },
  {
   "cell_type": "code",
   "execution_count": 91,
   "metadata": {},
   "outputs": [],
   "source": [
    "def factorialLoop(n):\n",
    "    temp = 1\n",
    "    for i in range(1,n+1):\n",
    "        temp *= i\n",
    "    return temp"
   ]
  },
  {
   "cell_type": "code",
   "execution_count": 92,
   "metadata": {},
   "outputs": [
    {
     "output_type": "execute_result",
     "data": {
      "text/plain": [
       "5040"
      ]
     },
     "metadata": {},
     "execution_count": 92
    }
   ],
   "source": [
    "factorialLoop(7)"
   ]
  },
  {
   "source": [
    "# ALARM CLOCK"
   ],
   "cell_type": "markdown",
   "metadata": {}
  },
  {
   "cell_type": "code",
   "execution_count": 93,
   "metadata": {},
   "outputs": [],
   "source": [
    "import time"
   ]
  },
  {
   "cell_type": "code",
   "execution_count": 101,
   "metadata": {},
   "outputs": [
    {
     "output_type": "execute_result",
     "data": {
      "text/plain": [
       "1614882814.1144092"
      ]
     },
     "metadata": {},
     "execution_count": 101
    }
   ],
   "source": [
    "seconds = time.time()\n",
    "seconds"
   ]
  },
  {
   "cell_type": "code",
   "execution_count": 107,
   "metadata": {},
   "outputs": [],
   "source": [
    "def alarmClock(second):\n",
    "    import time\n",
    "    time.sleep(second)\n",
    "    print(\"{} seconds has been passed\".format(second))\n"
   ]
  },
  {
   "cell_type": "code",
   "execution_count": 108,
   "metadata": {},
   "outputs": [
    {
     "output_type": "stream",
     "name": "stdout",
     "text": [
      "5 seconds has been passed\n"
     ]
    }
   ],
   "source": [
    "alarmClock(5)"
   ]
  },
  {
   "source": [
    "# TAX CALCULATOR"
   ],
   "cell_type": "markdown",
   "metadata": {}
  },
  {
   "cell_type": "code",
   "execution_count": 1,
   "metadata": {},
   "outputs": [],
   "source": [
    "def taxCalculator(costs, tax=0.05):\n",
    "    return costs*tax"
   ]
  },
  {
   "cell_type": "code",
   "execution_count": 2,
   "metadata": {},
   "outputs": [
    {
     "output_type": "execute_result",
     "data": {
      "text/plain": [
       "45.0"
      ]
     },
     "metadata": {},
     "execution_count": 2
    }
   ],
   "source": [
    "taxCalculator(900)"
   ]
  },
  {
   "source": [
    "# TEMPP CONVERTER"
   ],
   "cell_type": "markdown",
   "metadata": {}
  },
  {
   "cell_type": "code",
   "execution_count": 14,
   "metadata": {},
   "outputs": [],
   "source": [
    "def celToFah(temp):\n",
    "    return (temp/5 * 9) + 32\n",
    "def fahToCel(temp):\n",
    "    return (temp-32) * (5/9)\n",
    "def celToKel(temp):\n",
    "    return temp + 273\n",
    "def kelToCel(temp):\n",
    "    return temp - 273\n",
    "def kelToFah(temp):\n",
    "    return (9/5)*(temp-273)+32\n",
    "def fahToKel(temp):\n",
    "    return (5/9)*(temp-32)+273"
   ]
  },
  {
   "cell_type": "code",
   "execution_count": 13,
   "metadata": {},
   "outputs": [
    {
     "output_type": "stream",
     "name": "stdout",
     "text": [
      "356.0\n-40.0\n-40.0\n10.0\n"
     ]
    }
   ],
   "source": [
    "print(celToFah(180))\n",
    "print(fahToCel(-40))\n",
    "print(celToFah(-40))\n",
    "print(fahToCel(50))"
   ]
  },
  {
   "source": [
    "# Coin FLIP SIMULATION"
   ],
   "cell_type": "markdown",
   "metadata": {}
  },
  {
   "cell_type": "code",
   "execution_count": 20,
   "metadata": {},
   "outputs": [],
   "source": [
    "def coinFlip(n):\n",
    "    import random\n",
    "    tail = 0\n",
    "    head = 0\n",
    "    for i in range(n):\n",
    "        temp = random.randint(0,1)\n",
    "        if temp == 0:\n",
    "            tail += 1\n",
    "        else:\n",
    "            head += 1\n",
    "    return \"Flip for {} times\\nhead : {}\\ntail: {}\".format(n,head,tail)"
   ]
  },
  {
   "cell_type": "code",
   "execution_count": 27,
   "metadata": {},
   "outputs": [
    {
     "output_type": "stream",
     "name": "stdout",
     "text": [
      "Flip for 10000 times\nhead : 5021\ntail: 4979\n"
     ]
    }
   ],
   "source": [
    "print(coinFlip(10000))"
   ]
  },
  {
   "source": [
    "# EXPONENTIATION"
   ],
   "cell_type": "markdown",
   "metadata": {}
  },
  {
   "cell_type": "code",
   "execution_count": 28,
   "metadata": {},
   "outputs": [],
   "source": [
    "def powTo(num,exp):\n",
    "    temp = 1\n",
    "    for i in range(exp):\n",
    "        temp *= num\n",
    "    return temp"
   ]
  },
  {
   "cell_type": "code",
   "execution_count": 30,
   "metadata": {},
   "outputs": [
    {
     "output_type": "stream",
     "name": "stdout",
     "text": [
      "729\n"
     ]
    }
   ],
   "source": [
    "print(powTo(9,3))"
   ]
  },
  {
   "cell_type": "code",
   "execution_count": 31,
   "metadata": {},
   "outputs": [],
   "source": [
    "def powTo2(num,exp):\n",
    "    return num ** exp"
   ]
  },
  {
   "cell_type": "code",
   "execution_count": 32,
   "metadata": {},
   "outputs": [
    {
     "output_type": "execute_result",
     "data": {
      "text/plain": [
       "729"
      ]
     },
     "metadata": {},
     "execution_count": 32
    }
   ],
   "source": [
    "powTo2(9,3)"
   ]
  },
  {
   "source": [
    "# DISTANCE IN EARTH BETWEEN TWO POINTS (Latitude,longitude)"
   ],
   "cell_type": "markdown",
   "metadata": {}
  },
  {
   "source": [
    "Haversine formula"
   ],
   "cell_type": "markdown",
   "metadata": {}
  },
  {
   "source": [
    "1. Convert the latitude and longitude values from decimal degrees to radians: divide the values of longitude and latiitude of both the points by 180/pi"
   ],
   "cell_type": "markdown",
   "metadata": {}
  },
  {
   "cell_type": "code",
   "execution_count": 23,
   "metadata": {},
   "outputs": [],
   "source": [
    "def distanceTwoPointsEarth(point1,point2,type=\"km\"):\n",
    "    # latitude : idx 0\n",
    "    # longitude : idx 1\n",
    "    import math\n",
    "    lat1 = math.radians(point1[0]) \n",
    "    long1 = math.radians(point1[1])\n",
    "    lat2 = math.radians(point2[0])\n",
    "    long2 = math.radians(point2[1])\n",
    "    if type == \"MILES\":\n",
    "        return \"{} miles\".format( 3963*math.acos( (math.sin(lat1)*math.sin(lat2)) + math.cos(lat1)*math.cos(lat2)*math.cos(long2-long1) ) )\n",
    "    else:\n",
    "        return \"{} km\".format( 6378.8*math.acos( (math.sin(lat1)*math.sin(lat2)) + math.cos(lat1)*math.cos(lat2)*math.cos(long2-long1) ) )"
   ]
  },
  {
   "source": [
    "Distance, d = 3963.0 * arccos[(sin(lat1) * sin(lat2)) + cos(lat1) * cos(lat2) * cos(long2 – long1)]"
   ],
   "cell_type": "markdown",
   "metadata": {}
  },
  {
   "source": [
    "If we want to calculate the distance between two places in miles, use the value 3, 963, which is the radius of Earth. If we want to calculate the distance between two places in kilometers, use the value 6, 378.8, which is the radius of Earth."
   ],
   "cell_type": "markdown",
   "metadata": {}
  },
  {
   "cell_type": "code",
   "execution_count": 24,
   "metadata": {},
   "outputs": [
    {
     "output_type": "execute_result",
     "data": {
      "text/plain": [
       "'2.0068217795628374 km'"
      ]
     },
     "metadata": {},
     "execution_count": 24
    }
   ],
   "source": [
    "distanceTwoPointsEarth([53.32055555555556,-1.7297222222222221],[53.31861111111111,-1.6997222222222223])"
   ]
  },
  {
   "cell_type": "code",
   "execution_count": null,
   "metadata": {},
   "outputs": [],
   "source": []
  }
 ]
}